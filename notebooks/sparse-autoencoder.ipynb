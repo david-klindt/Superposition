{
 "cells": [
  {
   "cell_type": "code",
   "execution_count": 10,
   "metadata": {},
   "outputs": [],
   "source": [
    "import sys\n",
    "sys.path.append(\"../\")\n",
    "import torch\n",
    "from main import *\n",
    "import numpy as np\n",
    "import pickle\n",
    "import wandb\n",
    "from torch.utils.data import DataLoader"
   ]
  },
  {
   "cell_type": "code",
   "execution_count": 85,
   "metadata": {},
   "outputs": [],
   "source": [
    "class LinearAutoencoder(torch.nn.Module):\n",
    "\n",
    "    def __init__(self,\n",
    "                 in_features,\n",
    "                 out_features,\n",
    "                 device=\"cpu\"):\n",
    "        \n",
    "        super().__init__()\n",
    "        \n",
    "        self.in_features = in_features\n",
    "        self.out_features = out_features\n",
    "        self.device = device\n",
    "\n",
    "        self.encoder = torch.nn.Sequential(\n",
    "                torch.nn.Linear(in_features, out_features,\n",
    "                bias=True, \n",
    "                device=device), \n",
    "                torch.nn.ReLU())\n",
    "\n",
    "        self.decoder = torch.nn.Linear(\n",
    "                    out_features,\n",
    "                    in_features,\n",
    "                    bias=False,\n",
    "                    device=device)\n",
    "        torch.nn.init.orthogonal_(self.decoder.weight.data)\n",
    "\n",
    "    def encode(self, x):\n",
    "        out = self.encoder(x)\n",
    "        return out\n",
    "    \n",
    "    def decode(self, z):\n",
    "        self.decoder.weight.data = self.decoder.weight.data / (1e-10 + self.decoder.weight.data.norm(dim=0))\n",
    "        out = self.decoder(z)\n",
    "        return out\n",
    "\n",
    "    def forward(self, x):\n",
    "        latent = self.encode(x)\n",
    "        recon = self.decode(latent)\n",
    "        return latent, recon"
   ]
  },
  {
   "cell_type": "code",
   "execution_count": 63,
   "metadata": {},
   "outputs": [],
   "source": [
    "def sparse_ae_loss(x, x_hat, z, lam, in_features, out_features):\n",
    "    recon_loss = torch.nn.functional.mse_loss(x, x_hat) # divide by in_features?\n",
    "    l1_reg = lam * torch.norm(z, p=1) # divide by out_features?\n",
    "    total_loss = recon_loss + l1_reg\n",
    "    return total_loss\n",
    "\n",
    "def train_sparse_autoencoder(\n",
    "        model, \n",
    "        train_loader,\n",
    "        val_loader, \n",
    "        lam,\n",
    "        optimizer,\n",
    "        n_epochs):\n",
    "    \n",
    "    for epoch in range(n_epochs):\n",
    "        model.train()\n",
    "        train_loss = 0.0\n",
    "        for batch_idx, (data, target) in enumerate(train_loader):\n",
    "            optimizer.zero_grad()\n",
    "            latent, recon = model(data)\n",
    "            loss = sparse_ae_loss(data, \n",
    "                                  recon, \n",
    "                                  latent, \n",
    "                                  lam,\n",
    "                                  model.in_features, \n",
    "                                  model.out_features)\n",
    "            loss.backward()\n",
    "            optimizer.step()\n",
    "            train_loss += loss.item()\n",
    "        \n",
    "        train_loss /= len(train_loader.dataset)\n",
    "\n",
    "\n",
    "        # Validate the model\n",
    "        model.eval()\n",
    "        val_loss = 0.0\n",
    "        with torch.no_grad():\n",
    "            for data, target in val_loader:\n",
    "                latent, recon = model(data)\n",
    "                loss = sparse_ae_loss(data, \n",
    "                                  recon, \n",
    "                                  latent, \n",
    "                                  lam,\n",
    "                                  model.in_features, \n",
    "                                  model.out_features)\n",
    "                val_loss += loss.item()\n",
    "\n",
    "        val_loss /= len(val_loader.dataset)\n",
    "\n",
    "                \n",
    "        # Log training loss to wandb\n",
    "        wandb.log({\n",
    "            \"epoch\": epoch,\n",
    "            \"n_examples\": len(train_loader.dataset) * (epoch+1),\n",
    "            \"train_loss\": train_loss, \n",
    "            \"val_loss\": val_loss\n",
    "            })\n",
    "        \n",
    "        print(f\"Epoch: {epoch+1}, Training Loss: {train_loss:.4f}, Validation Loss: {val_loss:.4f}\")"
   ]
  },
  {
   "cell_type": "code",
   "execution_count": 58,
   "metadata": {},
   "outputs": [],
   "source": [
    "from torch.utils.data import Dataset\n",
    "class ActivationDataset(Dataset):\n",
    "\n",
    "    def __init__(self, activations, labels=None):\n",
    "        super().__init__()\n",
    "        self.data = activations\n",
    "        if labels is not None:\n",
    "            self.labels = labels\n",
    "        else:\n",
    "            self.labels = torch.arange(len(activations))\n",
    "\n",
    "    def __len__(self):\n",
    "        return len(self.data)\n",
    "\n",
    "    def __getitem__(self, idx):\n",
    "        return self.data[idx], self.labels[idx]"
   ]
  },
  {
   "cell_type": "code",
   "execution_count": 57,
   "metadata": {},
   "outputs": [
    {
     "name": "stdout",
     "output_type": "stream",
     "text": [
      "directory already exists\n"
     ]
    }
   ],
   "source": [
    "# GENERATE DATA\n",
    "import os\n",
    "try:\n",
    "    os.makedirs(\"resnet-data\")\n",
    "except:\n",
    "    print(\"directory already exists\")\n",
    "\n",
    "file = open(\"../logs/results.pkl\",'rb')\n",
    "results = pickle.load(file)\n",
    "\n",
    "\n",
    "for l in np.arange(1, 5):\n",
    "    layer = \"layer{}\".format(l)\n",
    "    activations = results[layer]['activations_normed']\n",
    "    activations = activations - activations.mean(axis=0)\n",
    "    activations = activations / (1e-10 + activations.std(axis=0))\n",
    "    activations = torch.tensor(activations)\n",
    "    torch.save(activations, \"resnet-data/{}-activations-zscored.pt\".format(layer))"
   ]
  },
  {
   "cell_type": "code",
   "execution_count": 81,
   "metadata": {},
   "outputs": [
    {
     "data": {
      "text/html": [
       "Finishing last run (ID:z364nj9d) before initializing another..."
      ],
      "text/plain": [
       "<IPython.core.display.HTML object>"
      ]
     },
     "metadata": {},
     "output_type": "display_data"
    },
    {
     "data": {
      "text/html": [
       "Waiting for W&B process to finish... <strong style=\"color:green\">(success).</strong>"
      ],
      "text/plain": [
       "<IPython.core.display.HTML object>"
      ]
     },
     "metadata": {},
     "output_type": "display_data"
    },
    {
     "name": "stderr",
     "output_type": "stream",
     "text": [
      "wandb: WARNING Source type is set to 'repo' but some required information is missing from the environment. A job will not be created from this run. See https://docs.wandb.ai/guides/launch/create-job\n"
     ]
    },
    {
     "data": {
      "text/html": [
       " View run <strong style=\"color:#cdcd00\">wise-morning-3</strong> at: <a href='https://wandb.ai/naturalcomputation/monosemanticity/runs/z364nj9d' target=\"_blank\">https://wandb.ai/naturalcomputation/monosemanticity/runs/z364nj9d</a><br/>Synced 6 W&B file(s), 0 media file(s), 0 artifact file(s) and 0 other file(s)"
      ],
      "text/plain": [
       "<IPython.core.display.HTML object>"
      ]
     },
     "metadata": {},
     "output_type": "display_data"
    },
    {
     "data": {
      "text/html": [
       "Find logs at: <code>./wandb/run-20230925_175555-z364nj9d/logs</code>"
      ],
      "text/plain": [
       "<IPython.core.display.HTML object>"
      ]
     },
     "metadata": {},
     "output_type": "display_data"
    },
    {
     "data": {
      "text/html": [
       "Successfully finished last run (ID:z364nj9d). Initializing new run:<br/>"
      ],
      "text/plain": [
       "<IPython.core.display.HTML object>"
      ]
     },
     "metadata": {},
     "output_type": "display_data"
    },
    {
     "data": {
      "application/vnd.jupyter.widget-view+json": {
       "model_id": "46fad13829ce4834a56c3692c9aac50e",
       "version_major": 2,
       "version_minor": 0
      },
      "text/plain": [
       "VBox(children=(Label(value='Waiting for wandb.init()...\\r'), FloatProgress(value=0.011168181944716101, max=1.0…"
      ]
     },
     "metadata": {},
     "output_type": "display_data"
    },
    {
     "data": {
      "text/html": [
       "Tracking run with wandb version 0.15.11"
      ],
      "text/plain": [
       "<IPython.core.display.HTML object>"
      ]
     },
     "metadata": {},
     "output_type": "display_data"
    },
    {
     "data": {
      "text/html": [
       "Run data is saved locally in <code>/Users/sophia/projects/Superposition/notebooks/wandb/run-20230925_175638-o7dkt00n</code>"
      ],
      "text/plain": [
       "<IPython.core.display.HTML object>"
      ]
     },
     "metadata": {},
     "output_type": "display_data"
    },
    {
     "data": {
      "text/html": [
       "Syncing run <strong><a href='https://wandb.ai/naturalcomputation/monosemanticity/runs/o7dkt00n' target=\"_blank\">treasured-wood-4</a></strong> to <a href='https://wandb.ai/naturalcomputation/monosemanticity' target=\"_blank\">Weights & Biases</a> (<a href='https://wandb.me/run' target=\"_blank\">docs</a>)<br/>"
      ],
      "text/plain": [
       "<IPython.core.display.HTML object>"
      ]
     },
     "metadata": {},
     "output_type": "display_data"
    },
    {
     "data": {
      "text/html": [
       " View project at <a href='https://wandb.ai/naturalcomputation/monosemanticity' target=\"_blank\">https://wandb.ai/naturalcomputation/monosemanticity</a>"
      ],
      "text/plain": [
       "<IPython.core.display.HTML object>"
      ]
     },
     "metadata": {},
     "output_type": "display_data"
    },
    {
     "data": {
      "text/html": [
       " View run at <a href='https://wandb.ai/naturalcomputation/monosemanticity/runs/o7dkt00n' target=\"_blank\">https://wandb.ai/naturalcomputation/monosemanticity/runs/o7dkt00n</a>"
      ],
      "text/plain": [
       "<IPython.core.display.HTML object>"
      ]
     },
     "metadata": {},
     "output_type": "display_data"
    }
   ],
   "source": [
    "# CONFIG\n",
    "\n",
    "activations = torch.load(\"resnet-data/layer1-activations-zscored.pt\")\n",
    "\n",
    "config = {\n",
    "    \"in_features\": activations.shape[-1],\n",
    "    \"out_features\": activations.shape[-1] * 2,\n",
    "    \"lr\": 0.001,\n",
    "    \"lam\": 0.1,\n",
    "    \"fraction_val\": fraction_val,\n",
    "    \"batch_size\": batch_size\n",
    "}\n",
    "\n",
    "wandb.init(project=\"monosemanticity\")\n",
    "wandb.log({\"config\": config})"
   ]
  },
  {
   "cell_type": "code",
   "execution_count": 82,
   "metadata": {},
   "outputs": [
    {
     "data": {
      "text/plain": [
       "{'in_features': 256,\n",
       " 'out_features': 512,\n",
       " 'lr': 0.001,\n",
       " 'lam': 0.1,\n",
       " 'fraction_val': 0.2,\n",
       " 'batch_size': 64}"
      ]
     },
     "execution_count": 82,
     "metadata": {},
     "output_type": "execute_result"
    }
   ],
   "source": [
    "config"
   ]
  },
  {
   "cell_type": "code",
   "execution_count": 86,
   "metadata": {},
   "outputs": [
    {
     "name": "stdout",
     "output_type": "stream",
     "text": [
      "Epoch: 1, Training Loss: 0.8856, Validation Loss: 0.0188\n",
      "Epoch: 2, Training Loss: 0.0169, Validation Loss: 0.0166\n",
      "Epoch: 3, Training Loss: 0.0162, Validation Loss: 0.0165\n",
      "Epoch: 4, Training Loss: 0.0165, Validation Loss: 0.0169\n"
     ]
    }
   ],
   "source": [
    "model = LinearAutoencoder(\n",
    "    in_features=config['in_features'],\n",
    "    out_features=config['out_features']\n",
    ")\n",
    "\n",
    "optimizer = torch.optim.Adam(\n",
    "    model.parameters(),\n",
    "    lr=config['lr']\n",
    "    )\n",
    "\n",
    "train_sparse_autoencoder(\n",
    "    model=model, \n",
    "    train_loader=train_loader,\n",
    "    val_loader=val_loader,\n",
    "    lam=config[\"lam\"],\n",
    "    optimizer=optimizer,\n",
    "    n_epochs=1000)"
   ]
  },
  {
   "cell_type": "code",
   "execution_count": null,
   "metadata": {},
   "outputs": [],
   "source": []
  }
 ],
 "metadata": {
  "kernelspec": {
   "display_name": "py31",
   "language": "python",
   "name": "python3"
  },
  "language_info": {
   "codemirror_mode": {
    "name": "ipython",
    "version": 3
   },
   "file_extension": ".py",
   "mimetype": "text/x-python",
   "name": "python",
   "nbconvert_exporter": "python",
   "pygments_lexer": "ipython3",
   "version": "3.10.9"
  },
  "orig_nbformat": 4
 },
 "nbformat": 4,
 "nbformat_minor": 2
}
